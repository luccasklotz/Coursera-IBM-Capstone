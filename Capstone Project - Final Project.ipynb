{
 "cells": [
  {
   "cell_type": "markdown",
   "metadata": {},
   "source": [
    "# Capstone project"
   ]
  },
  {
   "cell_type": "markdown",
   "metadata": {},
   "source": [
    "## Introduction / Business problem"
   ]
  },
  {
   "cell_type": "markdown",
   "metadata": {},
   "source": [
    "Stakeholders of a new restaurant that will be opening in São Paulo, Brazil, are willing to take data-driven decision on where and what type and level of restaurant to open in the city.  \n",
    "They want to know where the best place is and why. Furthermore, they want to know the best price range of the restaurant given the location it will be - if it is in a more humble neighborhood, it will have lower prices. On the other hand, if it is a fancy or elite neighborhood, it will have higher prices."
   ]
  },
  {
   "cell_type": "markdown",
   "metadata": {},
   "source": [
    "## What data will be used to solve the problem"
   ]
  },
  {
   "cell_type": "markdown",
   "metadata": {},
   "source": [
    "To achieve the goal, two data sources will be used:  \n",
    "- Subway survey  \n",
    "    - An extensive survey had been carried out by São Paulo's subway\n",
    "    - It has a lot of information about the city population, such as income, trips, from where to where and many other\n",
    "    - It includes the coordinates of each neighborhood, and in each one many surveys were carried out\n",
    "    - For this project, we will be using the 'centroid' of each zone with its average income, previously calculated\n",
    "- Foursquare data\n",
    "    - We will be using the centroids of each zone together with foursquare data\n",
    "    - We will acquire data from foursquare database to each zone, such as number and types of restaurants and also other"
   ]
  },
  {
   "cell_type": "code",
   "execution_count": null,
   "metadata": {},
   "outputs": [],
   "source": []
  }
 ],
 "metadata": {
  "kernelspec": {
   "display_name": "Python 3",
   "language": "python",
   "name": "python3"
  },
  "language_info": {
   "codemirror_mode": {
    "name": "ipython",
    "version": 3
   },
   "file_extension": ".py",
   "mimetype": "text/x-python",
   "name": "python",
   "nbconvert_exporter": "python",
   "pygments_lexer": "ipython3",
   "version": "3.7.6"
  }
 },
 "nbformat": 4,
 "nbformat_minor": 4
}
